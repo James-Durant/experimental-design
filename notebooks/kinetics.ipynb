{
 "cells": [
  {
   "cell_type": "markdown",
   "metadata": {},
   "source": [
    "# Experimental Design\n",
    "***\n",
    "## Kinetics"
   ]
  },
  {
   "cell_type": "markdown",
   "metadata": {},
   "source": [
    "Import the necessary packages and code to generate the kinetics results."
   ]
  },
  {
   "cell_type": "code",
   "execution_count": null,
   "metadata": {},
   "outputs": [],
   "source": [
    "%matplotlib inline\n",
    "\n",
    "import numpy as np\n",
    "import os\n",
    "\n",
    "from scipy.optimize import differential_evolution\n",
    "\n",
    "from hogben.models.monolayers import MonolayerDPPG\n",
    "from hogben.utils import save_plot\n",
    "\n",
    "# Reduce size of plots for the notebook.\n",
    "import matplotlib.pyplot as plt\n",
    "plt.rcParams['figure.figsize'] = (7,5)\n",
    "plt.rcParams['figure.dpi'] = 100"
   ]
  },
  {
   "cell_type": "markdown",
   "metadata": {},
   "source": [
    "Define the 1,2-dipalmitoyl-sn-glycero-3-phospho-(1-rac-glycerol) (DPPG) monolayer model and get the fitted SLD profile (without and with protein) and reflectivity curve for the experimentally-measured (protein-bound) data sets."
   ]
  },
  {
   "cell_type": "code",
   "execution_count": null,
   "metadata": {},
   "outputs": [],
   "source": [
    "dppg_monolayer = MonolayerDPPG()\n",
    "\n",
    "save_path = './results'\n",
    "dppg_monolayer.sld_profile(save_path)\n",
    "dppg_monolayer.reflectivity_profile(save_path)"
   ]
  },
  {
   "cell_type": "markdown",
   "metadata": {},
   "source": [
    "Get the plots of Fisher information in the lipid APM versus contrast SLD and measurement angle for the h-DPPG and d-DPPG monolayer models. To account for the sample degradation, data is simulated for 20 lipid APM values, ranging from the fitted value of 54.1Å<sup>2</sup> to 500Å<sup>2</sup>, with the FI calculated over the entire simulated data set; this quantifies the maximum information obtainable about the APM over the full experiment using the given conditions. "
   ]
  },
  {
   "cell_type": "code",
   "execution_count": null,
   "metadata": {},
   "outputs": [],
   "source": [
    "def angle_contrast_choice(deuterated, save_path):\n",
    "    monolayer = MonolayerDPPG(deuterated=deuterated)\n",
    "\n",
    "    # Angles, contrasts and lipid area per molecule values to consider.\n",
    "    angle_range = np.linspace(0.2, 4.0, 25)\n",
    "    contrast_range = np.linspace(-0.56, 6.36, 25)\n",
    "    apm_range = np.linspace(54.1039, 500, 20)\n",
    "\n",
    "    # Number of points and measurement time to use when simulating data.\n",
    "    points = 100\n",
    "    time = 100\n",
    "\n",
    "    # Iterate over each contrast and angle being considered.\n",
    "    x, y, infos = [], [], []\n",
    "    n = len(angle_range)*len(contrast_range) # Number of calculations.\n",
    "    for i, contrast_sld in enumerate(contrast_range):\n",
    "        # Display progress.\n",
    "        if i % 5 == 0:\n",
    "            print('>>> {0}/{1}'.format(i*len(angle_range), n))\n",
    "\n",
    "        for angle in angle_range:\n",
    "            # Record the \"true\" lipid APM value.\n",
    "            apm = monolayer.lipid_apm.value\n",
    "\n",
    "            # Split the time budget based on number of APM values.\n",
    "            angle_times = [(angle, points, time/len(apm_range))]\n",
    "\n",
    "            # Calculate the lipid APM Fisher information for each value.\n",
    "            information = 0\n",
    "            for new_apm in apm_range:\n",
    "                # Use the new APM value, corresponding to a degrading sample.\n",
    "                monolayer.lipid_apm.value = new_apm\n",
    "                g = monolayer.contrast_info(angle_times, [contrast_sld])\n",
    "                information += g[0, 0]\n",
    "\n",
    "            monolayer.lipid_apm.value = apm # Reset the APM parameter.\n",
    "            infos.append(information)\n",
    "            x.append(contrast_sld)\n",
    "            y.append(angle)\n",
    "\n",
    "    # Create the plot of angle and contrast SLD versus Fisher information.\n",
    "    fig = plt.figure(figsize=[10,8])\n",
    "    ax = fig.add_subplot(111, projection='3d')\n",
    "\n",
    "    # Create the surface plot and add colour bar.\n",
    "    surface = ax.plot_trisurf(x, y, infos, cmap='plasma')\n",
    "    fig.colorbar(surface, fraction=0.046, pad=0.04)\n",
    "\n",
    "    # Adjust the viewing angle of the 3D plot.\n",
    "    ax.view_init(elev=40, azim=130)\n",
    "\n",
    "    ax.set_xlabel('$\\mathregular{Contrast\\ SLD\\ (10^{-6} \\AA^{-2})}$', fontsize=11, weight='bold')\n",
    "    ax.set_ylabel('Angle (°)', fontsize=11, weight='bold')\n",
    "    ax.set_zlabel('Fisher Information', fontsize=11, weight='bold')\n",
    "    ax.ticklabel_format(axis='z', style='sci', scilimits=(0,0))\n",
    "\n",
    "    # Save the plot.\n",
    "    save_path = os.path.join(save_path, monolayer.name)\n",
    "    tg_type = 'deuterated' if deuterated else 'hydrogenated'\n",
    "    filename = 'angle_contrast_choice_' + tg_type\n",
    "    save_plot(fig, save_path, filename)\n",
    "\n",
    "angle_contrast_choice(False, save_path)\n",
    "angle_contrast_choice(True, save_path)"
   ]
  }
 ],
 "metadata": {
  "kernelspec": {
   "display_name": "Python 3 (ipykernel)",
   "language": "python",
   "name": "python3"
  },
  "language_info": {
   "codemirror_mode": {
    "name": "ipython",
    "version": 3
   },
   "file_extension": ".py",
   "mimetype": "text/x-python",
   "name": "python",
   "nbconvert_exporter": "python",
   "pygments_lexer": "ipython3",
   "version": "3.10.12"
  }
 },
 "nbformat": 4,
 "nbformat_minor": 4
}
