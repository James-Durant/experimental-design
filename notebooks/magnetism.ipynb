{
 "cells": [
  {
   "cell_type": "markdown",
   "metadata": {},
   "source": [
    "# Experimental Design\n",
    "***\n",
    "## Magnetism"
   ]
  },
  {
   "cell_type": "markdown",
   "metadata": {},
   "source": [
    "Import the necessary packages and code to generate the magnetism results."
   ]
  },
  {
   "cell_type": "code",
   "execution_count": null,
   "metadata": {},
   "outputs": [],
   "source": [
    "%matplotlib inline\n",
    "\n",
    "import numpy as np\n",
    "import os\n",
    "\n",
    "from scipy.optimize import differential_evolution\n",
    "\n",
    "from hogben.models.magnetic import SampleYIG\n",
    "from hogben.magnetism import _logl\n",
    "from hogben.simulate import simulate_magnetic, reflectivity\n",
    "from hogben.utils import save_plot\n",
    "\n",
    "# Reduce size of plots for the notebook.\n",
    "import matplotlib.pyplot as plt\n",
    "plt.rcParams['figure.dpi'] = 100"
   ]
  },
  {
   "cell_type": "markdown",
   "metadata": {},
   "source": [
    "Get the fitted SLD profile and reflectivity curve for the experimentally-measured data sets of the magnetic model."
   ]
  },
  {
   "cell_type": "code",
   "execution_count": null,
   "metadata": {},
   "outputs": [],
   "source": [
    "sample = SampleYIG()\n",
    "\n",
    "# Add a 0.01 uB/atom magnetic moment in the platinum layer.\n",
    "sample.pt_mag.value = 0.01638\n",
    "\n",
    "save_path = './results'\n",
    "sample.sld_profile(save_path)\n",
    "sample.reflectivity_profile(save_path)"
   ]
  },
  {
   "cell_type": "markdown",
   "metadata": {},
   "source": [
    "Get the plot of Fisher information in the platinum layer magnetic SLD versus YIG and platinum layer thicknesses."
   ]
  },
  {
   "cell_type": "code",
   "execution_count": null,
   "metadata": {},
   "outputs": [],
   "source": [
    "# Number of points and counting times for each angle to simulate.\n",
    "angle_times = [(0.5, 100, 20),\n",
    "               (1.0, 100, 40),\n",
    "               (2.0, 100, 80)]\n",
    "\n",
    "# Range of YIG and platinum layer thicknesses to calculate over.\n",
    "yig_thick_range = np.linspace(400, 900, 60)\n",
    "pt_thick_range = np.concatenate((np.linspace(21.5, 30, 25), np.linspace(30, 100, 25)))\n",
    "\n",
    "# Iterate over each YIG and platinum layer thickness being considered.\n",
    "x, y, infos = [], [], []\n",
    "n = len(pt_thick_range)*len(yig_thick_range) # Number of calculations.\n",
    "for i, yig_thick in enumerate(yig_thick_range):\n",
    "    # Display progress.\n",
    "    if i % 5 == 0:\n",
    "        print('>>> {0}/{1}'.format(i*len(pt_thick_range), n))\n",
    "\n",
    "    for pt_thick in pt_thick_range:\n",
    "        # Calculate the Fisher information using current thicknesses.\n",
    "        g = sample.underlayer_info(angle_times, yig_thick, pt_thick)\n",
    "\n",
    "        infos.append(g[0,0])\n",
    "        x.append(yig_thick)\n",
    "        y.append(pt_thick)\n",
    "\n",
    "# Create plot of YIG and platinum layer thicknesses versus Fisher information.\n",
    "fig = plt.figure(figsize=[10,8])\n",
    "ax = fig.add_subplot(111, projection='3d')\n",
    "\n",
    "# Create the surface plot and add colour bar.\n",
    "surface = ax.plot_trisurf(x, y, infos, cmap='plasma')\n",
    "fig.colorbar(surface, fraction=0.046, pad=0.04)\n",
    "\n",
    "# Adjust the viewing angle of the 3D plot.\n",
    "ax.view_init(elev=40, azim=140)\n",
    "\n",
    "ax.set_xlabel('$\\mathregular{YIG\\ Thickness\\ (\\AA)}$', fontsize=11, weight='bold')\n",
    "ax.set_ylabel('$\\mathregular{Pt\\ Thickness\\ (\\AA)}$', fontsize=11, weight='bold')\n",
    "ax.set_zlabel('Fisher Information', fontsize=11, weight='bold')\n",
    "ax.ticklabel_format(axis='z', style='sci', scilimits=(0,0))\n",
    "\n",
    "#### Uncomment to save the plot.\n",
    "# save_path = os.path.join(save_path, sample.name)\n",
    "# save_plot(fig, save_path, 'underlayer_choice')"
   ]
  },
  {
   "cell_type": "markdown",
   "metadata": {},
   "source": [
    "Get the plot of the log ratio of likelihoods between two models, one with an induced moment in the platinum layer and one with no moment, versus counting time for two structures: one with an optimised 26Å platinum layer thickness and the other with a sub-optimal 80Å thickness. The counting times shown are minutes per measured spin state (i.e., for this model, the total times are double the values shown here)."
   ]
  },
  {
   "cell_type": "code",
   "execution_count": null,
   "metadata": {},
   "outputs": [],
   "source": [
    "# Define the range of times to consider (1 to 100 hours here).\n",
    "times = np.linspace(40, 4000, 100)\n",
    "\n",
    "# Number of points and split of the total counting time for each angle to simulate.\n",
    "angle_splits = [(0.5, 100, 1/7),\n",
    "                (1.0, 100, 2/7),\n",
    "                (2.0, 100, 4/7)]\n",
    "\n",
    "def calc_log_ratios(pt_thick):\n",
    "    \"\"\"Calculates log ratio of likelihoods between two models, one with an\n",
    "      induced moment in the YIG sample Pt layer and one with no moment, as\n",
    "      a function of measurement time.\n",
    "\n",
    "    Args:\n",
    "        pt_thick (float): Pt layer thickness to use.\n",
    "\n",
    "    \"\"\"\n",
    "    ratios = []\n",
    "    # Iterate over each time being considered.\n",
    "    for i, total_time in enumerate(times):\n",
    "        # Display progress.\n",
    "        if i % 20 == 0:\n",
    "            print('>>> {0}/{1}'.format(i, len(times)))\n",
    "        \n",
    "        temp = []\n",
    "        # Get the ratio for 100 simulated data sets using the time.\n",
    "        for _ in range(20):\n",
    "            # Define the number of points and times for each angle.\n",
    "            angle_times = [(angle, points, split*total_time)\n",
    "                           for angle, points, split in angle_splits]\n",
    "\n",
    "            # Simulate data for the YIG sample with a 1 uB/atom magnetic\n",
    "            # moment in the Pt layer.\n",
    "            sample = SampleYIG()\n",
    "            sample.pt_mag.value = 0.01638\n",
    "\n",
    "            structure = sample.using_conditions(pt_thick=pt_thick)\n",
    "            models, datasets = simulate_magnetic(structure, angle_times, scale=1, bkg=5e-7, dq=2,\n",
    "                                                 pp=True, pm=False, mp=False, mm=True)\n",
    "\n",
    "            # Calculate the log-likelihood of a model containing the\n",
    "            # Pt layer magnetic moment.\n",
    "            logl_1 = _logl(models)\n",
    "\n",
    "            # Calculate the log-likelihood of a model without the\n",
    "            # Pt layer magnetic moment.\n",
    "            sample.pt_mag.value = 0\n",
    "            logl_2 = _logl(models)\n",
    "\n",
    "            # Record the ratio of likelihoods.\n",
    "            ratio = logl_1-logl_2\n",
    "            temp.append(ratio)\n",
    "            \n",
    "        # Record the median ratio.\n",
    "        ratios.append(np.median(temp))\n",
    "    \n",
    "    return ratios\n",
    "\n",
    "# Create the plot of counting time versus log ratio of likelihoods.\n",
    "fig = plt.figure(figsize=(6,7))\n",
    "ax = fig.add_subplot(111)\n",
    "\n",
    "ax.plot(1.5*times, calc_log_ratios(26), label='26Å Pt Thickness')\n",
    "ax.plot(1.5*times, calc_log_ratios(80), label='80Å Pt Thickness')\n",
    "\n",
    "ax.set_xlabel('Counting Time (min.)', fontsize=11, weight='bold')\n",
    "ax.set_ylabel('Log Ratio of Likelihoods', fontsize=11, weight='bold')\n",
    "ax.legend()\n",
    "\n",
    "#### Uncomment to save the plot.\n",
    "# save_path = os.path.join(save_path, 'YIG_sample')\n",
    "# save_plot(fig, save_path, 'log_ratios')"
   ]
  }
 ],
 "metadata": {
  "kernelspec": {
   "display_name": "Python 3 (ipykernel)",
   "language": "python",
   "name": "python3"
  },
  "language_info": {
   "codemirror_mode": {
    "name": "ipython",
    "version": 3
   },
   "file_extension": ".py",
   "mimetype": "text/x-python",
   "name": "python",
   "nbconvert_exporter": "python",
   "pygments_lexer": "ipython3",
   "version": "3.9.13"
  }
 },
 "nbformat": 4,
 "nbformat_minor": 4
}
