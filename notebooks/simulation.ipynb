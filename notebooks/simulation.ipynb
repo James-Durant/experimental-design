{
 "cells": [
  {
   "cell_type": "markdown",
   "metadata": {},
   "source": [
    "# Experimental Design\n",
    "***\n",
    "## Simulation"
   ]
  },
  {
   "cell_type": "markdown",
   "metadata": {},
   "source": [
    "Import the necessary packages and code for simulating an experiment."
   ]
  },
  {
   "cell_type": "code",
   "execution_count": null,
   "metadata": {},
   "outputs": [],
   "source": [
    "import hogben as hg\n"
   ]
  },
  {
   "cell_type": "code",
   "execution_count": 1,
   "metadata": {},
   "outputs": [],
   "source": [
    "from hogben import simulate"
   ]
  },
  {
   "cell_type": "code",
   "execution_count": null,
   "metadata": {},
   "outputs": [],
   "source": [
    "help(hg)"
   ]
  },
  {
   "cell_type": "code",
   "execution_count": null,
   "metadata": {},
   "outputs": [],
   "source": [
    "%matplotlib inline\n",
    "\n",
    "import numpy as np\n",
    "import os, sys\n",
    "# Add to system path to access simulation code.\n",
    "sys.path.append('../experimental-design')\n",
    "\n",
    "import hogben.simulate as simulate\n",
    "import hogben.utils.reflectivity as reflectivity\n",
    "\n",
    "# Reduce size of plots for the notebook.\n",
    "import matplotlib.pyplot as plt\n",
    "plt.rcParams['figure.figsize'] = (7,5)\n",
    "plt.rcParams['figure.dpi'] = 100"
   ]
  },
  {
   "cell_type": "markdown",
   "metadata": {},
   "source": [
    "Next, define the structure that we want to simulate. Here the structure has been defined using [refnx](https://refnx.readthedocs.io/)."
   ]
  },
  {
   "cell_type": "code",
   "execution_count": null,
   "metadata": {},
   "outputs": [],
   "source": [
    "from refnx.reflect import SLD\n",
    "\n",
    "# Defines a structure describing a simple sample.\n",
    "air = SLD(0, name='Air')\n",
    "layer1 = SLD(4, name='Layer 1')(thick=100, rough=2)\n",
    "layer2 = SLD(8, name='Layer 2')(thick=150, rough=2)\n",
    "substrate = SLD(2.047, name='Substrate')(thick=0, rough=2)\n",
    "\n",
    "sample_1 = air | layer1 | layer2 | substrate"
   ]
  },
  {
   "cell_type": "markdown",
   "metadata": {},
   "source": [
    "Here we see what the SLD profile of our simple structure looks like."
   ]
  },
  {
   "cell_type": "code",
   "execution_count": null,
   "metadata": {},
   "outputs": [],
   "source": [
    "fig = plt.figure()\n",
    "ax = fig.add_subplot(111)\n",
    "ax.plot(*sample_1.sld_profile(), color='black')\n",
    "ax.set_xlabel('$\\mathregular{Distance\\ (\\AA)}$', fontsize=11, weight='bold')\n",
    "ax.set_ylabel('$\\mathregular{SLD\\ (10^{-6} \\AA^{-2})}$', fontsize=11, weight='bold')\n",
    "plt.show()"
   ]
  },
  {
   "cell_type": "markdown",
   "metadata": {},
   "source": [
    "To simulate the structure, we need to define the counting times and number of points for each angle to simulate. We also specify the experimental scale factor, level of background noise and instrument resolution (in this case constant 2% $dQ/Q$)."
   ]
  },
  {
   "cell_type": "code",
   "execution_count": null,
   "metadata": {},
   "outputs": [],
   "source": [
    "angle_times = [(0.7, 100, 5),\n",
    "               (2.0, 100, 20)] # (Angle, Points, Time)\n",
    "scale = 1\n",
    "bkg = 1e-6\n",
    "dq = 2\n",
    "\n",
    "instrument = 'OFFSPEC' # Options are 'INTER', 'OFFSPEC', 'POLREF' or 'SURF'\n",
    "\n",
    "directbeam_path = os.path.join('..', 'experimental-design', 'data', 'directbeams',\n",
    "                               '{}_non_polarised.dat'.format(instrument))\n",
    "\n",
    "# Simulate the experiment.\n",
    "model_1, data_1 = simulate(sample_1, angle_times, scale, bkg, dq, directbeam_path)"
   ]
  },
  {
   "cell_type": "markdown",
   "metadata": {},
   "source": [
    "We can now plot the simulated data together with the \"true\" model reflectivity. Note that this data is not stitched; the data from each individual angle has been plotted without any rebinning."
   ]
  },
  {
   "cell_type": "code",
   "execution_count": null,
   "metadata": {},
   "outputs": [],
   "source": [
    "def plot_reflectivity(model, data):\n",
    "    # Extract each column of the simulated `data`.\n",
    "    q, r, dr, counts = data[:,0], data[:,1],  data[:,2], data[:,3]\n",
    "\n",
    "    # Calculate the model reflectivity.\n",
    "    r_model = reflectivity(q, model)\n",
    "\n",
    "    # Plot the model and simulated reflectivity against Q.\n",
    "    fig = plt.figure(figsize=[9,7])\n",
    "    ax = fig.add_subplot(111)\n",
    "\n",
    "    # Model reflectivity.\n",
    "    ax.plot(q, r_model, color='red', zorder=20, label='Model')\n",
    "\n",
    "    # Simulated reflectivity\n",
    "    ax.errorbar(q, r, dr, color='black', marker='o', ms=3, lw=0, elinewidth=1, capsize=1.5, label='Simulated')\n",
    "\n",
    "    ax.set_xlabel('$\\mathregular{Q\\ (Å^{-1})}$', fontsize=11, weight='bold')\n",
    "    ax.set_ylabel('Reflectivity (arb.)', fontsize=11, weight='bold')\n",
    "    ax.set_yscale('log')\n",
    "    ax.set_xlim(0, 0.3)\n",
    "    ax.legend()\n",
    "    plt.show()\n",
    "    \n",
    "plot_reflectivity(model_1, data_1)"
   ]
  },
  {
   "cell_type": "markdown",
   "metadata": {},
   "source": [
    "We can simulate the same structure using [Refl1D](https://refl1d.readthedocs.io/). Note that the way the structure is defined is in the reverse order to refnx (be careful with the direction of interfacial roughnesses if you modify the notebook)."
   ]
  },
  {
   "cell_type": "code",
   "execution_count": null,
   "metadata": {},
   "outputs": [],
   "source": [
    "from refl1d.material import SLD\n",
    "\n",
    "# Defines the same structure as above but using Refl1D\n",
    "air = SLD(rho=0, name='Air')\n",
    "layer1 = SLD(rho=4, name='Layer 1')(thickness=100, interface=2)\n",
    "layer2 = SLD(rho=8, name='Layer 2')(thickness=150, interface=2)\n",
    "substrate = SLD(rho=2.047, name='Substrate')(thickness=0, interface=2)\n",
    "\n",
    "sample_2 = substrate | layer2 | layer1 | air"
   ]
  },
  {
   "cell_type": "markdown",
   "metadata": {},
   "source": [
    "Plot the simulated data like above. As you can see the results are very similar, as is expected."
   ]
  },
  {
   "cell_type": "code",
   "execution_count": null,
   "metadata": {},
   "outputs": [],
   "source": [
    "model_2, data_2 = simulate(sample_2, angle_times, scale, bkg, dq)\n",
    "plot_reflectivity(model_2, data_2)"
   ]
  },
  {
   "cell_type": "markdown",
   "metadata": {},
   "source": [
    "The following cell demonstrates the equivalence of the refnx and Refl1D model definitions."
   ]
  },
  {
   "cell_type": "code",
   "execution_count": null,
   "metadata": {},
   "outputs": [],
   "source": [
    "# Define a Q range to consider.\n",
    "q = np.geomspace(0.005, 0.3, 500)\n",
    "\n",
    "fig = plt.figure(figsize=[12,4])\n",
    "\n",
    "# Plot the model reflectivity for the RefNX model.\n",
    "ax1 = fig.add_subplot(121)\n",
    "ax1.plot(q, reflectivity(q, model_1), color='black', label='refnx')\n",
    "ax1.set_xlabel('$\\mathregular{Q\\ (Å^{-1})}$', fontsize=11, weight='bold')\n",
    "ax1.set_ylabel('Reflectivity (arb.)', fontsize=11, weight='bold')\n",
    "ax1.set_yscale('log')\n",
    "ax1.legend()\n",
    "\n",
    "# Plot the model reflectivity for the Refl1D model.\n",
    "ax2 = fig.add_subplot(122, sharey=ax1)\n",
    "ax2.plot(q, reflectivity(q, model_2), color='black', label='Refl1D')\n",
    "ax2.set_xlabel('$\\mathregular{Q\\ (Å^{-1})}$', fontsize=11, weight='bold')\n",
    "ax2.set_ylabel('Reflectivity (arb.)', fontsize=11, weight='bold')\n",
    "ax2.set_yscale('log')\n",
    "ax2.legend()\n",
    "\n",
    "plt.show()"
   ]
  }
 ],
 "metadata": {
  "kernelspec": {
   "display_name": "Python 3 (ipykernel)",
   "language": "python",
   "name": "python3"
  },
  "language_info": {
   "codemirror_mode": {
    "name": "ipython",
    "version": 3
   },
   "file_extension": ".py",
   "mimetype": "text/x-python",
   "name": "python",
   "nbconvert_exporter": "python",
   "pygments_lexer": "ipython3",
   "version": "3.9.13"
  }
 },
 "nbformat": 4,
 "nbformat_minor": 4
}
