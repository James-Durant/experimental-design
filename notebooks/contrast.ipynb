{
 "cells": [
  {
   "cell_type": "markdown",
   "metadata": {},
   "source": [
    "# Experimental Design\n",
    "***\n",
    "## Contrast Choice"
   ]
  },
  {
   "cell_type": "markdown",
   "metadata": {},
   "source": [
    "Import the necessary packages and code for this application of the framework."
   ]
  },
  {
   "cell_type": "code",
   "execution_count": null,
   "metadata": {},
   "outputs": [],
   "source": [
    "%matplotlib inline\n",
    "\n",
    "import numpy as np\n",
    "\n",
    "from refnx.reflect import SLD, Slab\n",
    "from refnx.analysis import Parameter\n",
    "\n",
    "from hogben.optimise import Optimiser\n",
    "from hogben.visualise import contrast_choice_single, contrast_choice_double\n",
    "\n",
    "# Reduce size of plots for the notebook.\n",
    "import matplotlib.pyplot as plt\n",
    "plt.rcParams['figure.figsize'] = (6, 4)\n",
    "plt.rcParams['figure.dpi'] = 100"
   ]
  },
  {
   "cell_type": "markdown",
   "metadata": {},
   "source": [
    "Next, define the structure that we want to find the optimal contrasts for. The code below defines a model in [refnx](https://refnx.readthedocs.io/) describing a 1,2-dimyristoyl-sn-glycero-3-phosphocholine (DMPC) bilayer. It inherits from the BaseLipid class which contains the methods for calculating the Fisher information."
   ]
  },
  {
   "cell_type": "code",
   "execution_count": null,
   "metadata": {},
   "outputs": [],
   "source": [
    "from base import BaseLipid\n",
    "\n",
    "class BilayerDMPC(BaseLipid):\n",
    "    def __init__(self):\n",
    "        self.name = 'DMPC_bilayer'\n",
    "\n",
    "        self.si_sld      = 2.073\n",
    "        self.sio2_sld    = 3.41\n",
    "        self.dmpc_hg_vol = 320.9\n",
    "        self.dmpc_tg_vol = 783.3\n",
    "        self.dmpc_hg_sl  = 6.41e-4\n",
    "        self.dmpc_tg_sl  = -3.08e-4\n",
    "        self.water_vol   = 30.4\n",
    "\n",
    "        # Calculate the SLD of the tailgroup.\n",
    "        self.tg_sld = (self.dmpc_tg_sl / self.dmpc_tg_vol) * 1e6\n",
    "\n",
    "        # Define the parameters of the model.\n",
    "        self.si_rough      = Parameter(2,     'Si/SiO2 Roughness',      (1,8))\n",
    "        self.sio2_thick    = Parameter(14.7,  'SiO2 Thickness',         (5,20))\n",
    "        self.sio2_rough    = Parameter(2,     'SiO2/DMPC Roughness',    (1,8))\n",
    "        self.sio2_solv     = Parameter(0.245, 'SiO2 Hydration',         (0,1))\n",
    "        self.dmpc_apm      = Parameter(49.9,  'DMPC Area Per Molecule', (30,60))\n",
    "        self.bilayer_rough = Parameter(6.57,  'Bilayer Roughness',      (1,8))\n",
    "        self.bilayer_solv  = Parameter(0.074, 'Bilayer Hydration',      (0,1))\n",
    "        self.hg_waters     = Parameter(3.59,  'Headgroup Bound Waters', (0,20))\n",
    "\n",
    "        self.params = [self.si_rough,\n",
    "                       self.sio2_thick,\n",
    "                       self.sio2_rough,\n",
    "                       self.sio2_solv,\n",
    "                       self.dmpc_apm,\n",
    "                       self.bilayer_rough,\n",
    "                       self.bilayer_solv,\n",
    "                       self.hg_waters]\n",
    "\n",
    "        # Vary all of the parameters defined above.\n",
    "        for param in self.params:\n",
    "            param.vary=True\n",
    "\n",
    "    def _using_conditions(self, contrast_sld, underlayers=None):\n",
    "        \"\"\"Creates a structure representing the bilayer measured using a\n",
    "           contrast of given `contrast_sld`.\n",
    "\n",
    "        Args:\n",
    "            contrast_sld (float): SLD of contrast to simulate.\n",
    "            underlayer (list): thicknesses and SLDs of underlayers to add.\n",
    "\n",
    "        Returns:\n",
    "            refnx.reflect.Structure: structure in given contrast.\n",
    "\n",
    "        \"\"\"\n",
    "        # We do not need to consider underlayers for this example.\n",
    "        assert underlayers is None\n",
    "        \n",
    "        # Calculate the SLD of the headgroup with the given contrast SLD.\n",
    "        hg_sld = contrast_sld*0.27 + 1.98*0.73\n",
    "\n",
    "        vol_hg = self.dmpc_hg_vol + self.hg_waters*self.water_vol\n",
    "        hg_thick = vol_hg / self.dmpc_apm\n",
    "        tg_thick = self.dmpc_tg_vol / self.dmpc_apm\n",
    "\n",
    "        substrate = SLD(self.si_sld)\n",
    "        solution  = SLD(contrast_sld)(rough=self.bilayer_rough)\n",
    "\n",
    "        sio2     = Slab(self.sio2_thick, self.sio2_sld, self.si_rough,      vfsolv=self.sio2_solv)\n",
    "        inner_hg = Slab(hg_thick,        hg_sld,        self.sio2_rough,    vfsolv=self.bilayer_solv)\n",
    "        outer_hg = Slab(hg_thick,        hg_sld,        self.bilayer_rough, vfsolv=self.bilayer_solv)\n",
    "        tg       = Slab(tg_thick,        self.tg_sld,   self.bilayer_rough, vfsolv=self.bilayer_solv)\n",
    "\n",
    "        solution  = SLD(contrast_sld)(rough=self.bilayer_rough)\n",
    "\n",
    "        return substrate | sio2 | inner_hg | tg | tg | outer_hg | solution\n",
    "    \n",
    "    # For this notebook we do not need to load any measured data.\n",
    "    def _create_objectives(self):\n",
    "        pass"
   ]
  },
  {
   "cell_type": "markdown",
   "metadata": {},
   "source": [
    "Define the inputs to the contrast selection code."
   ]
  },
  {
   "cell_type": "code",
   "execution_count": null,
   "metadata": {},
   "outputs": [],
   "source": [
    "# Path to directory to save results to.\n",
    "save_path = './results'\n",
    "\n",
    "# Specify the model.\n",
    "sample = BilayerDMPC()\n",
    "\n",
    "# Number of points and times to simulate for each angle.\n",
    "angle_times = [(0.7, 100, 10), (2.3, 100, 40)] # (Angle, Points, Time)\n",
    "\n",
    "# Contrast SLDs to consider.\n",
    "contrast_range = np.linspace(-0.56, 6.36, 200)"
   ]
  },
  {
   "cell_type": "markdown",
   "metadata": {},
   "source": [
    "***\n",
    "### Single Contrast\n",
    "We can investigate the choice of contrast SLD for single contrast choices. First assuming only D2O has been measured, then only H2O, and finally D2O and H2O."
   ]
  },
  {
   "cell_type": "code",
   "execution_count": null,
   "metadata": {},
   "outputs": [],
   "source": [
    "# Single contrast choice, assuming D2O was first measured.\n",
    "contrast_1 = contrast_choice_single(sample, contrast_range, [6.36], angle_times, save_path, 'D2O')\n",
    "print('Contrast choice with D2O: {}'.format(round(contrast_1, 2)))"
   ]
  },
  {
   "cell_type": "code",
   "execution_count": null,
   "metadata": {},
   "outputs": [],
   "source": [
    "# Single contrast choice, assuming H2O was first measured.\n",
    "contrast_2 = contrast_choice_single(sample, contrast_range, [-0.56], angle_times, save_path, 'H2O')\n",
    "print('Contrast choice with H2O: {}'.format(round(contrast_2, 2)))"
   ]
  },
  {
   "cell_type": "code",
   "execution_count": null,
   "metadata": {},
   "outputs": [],
   "source": [
    "# Single contrast choice, assuming D2O and H2O were measured.\n",
    "contrast_3 = contrast_choice_single(sample, contrast_range, [-0.56, 6.36], angle_times, save_path, 'H2O_D2O')\n",
    "print('Contrast choice with D2O & H2O: {}'.format(round(contrast_3, 2)))"
   ]
  },
  {
   "cell_type": "markdown",
   "metadata": {},
   "source": [
    "***\n",
    "### Multiple Contrasts\n",
    "We can also consider the choice of two contrasts simultaneously. In this case, we assume no prior measurement. Check the results folder to see different views of this 3D plot."
   ]
  },
  {
   "cell_type": "code",
   "execution_count": null,
   "metadata": {},
   "outputs": [],
   "source": [
    "contrast_range = np.linspace(-0.55, 6.36, 20) # Define a smaller range than before.\n",
    "contrast_pair = contrast_choice_double(sample, contrast_range, angle_times, save_path)\n",
    "print('Contrast pair: {}'.format(contrast_pair))"
   ]
  },
  {
   "cell_type": "markdown",
   "metadata": {},
   "source": [
    "***\n",
    "### Optimisation"
   ]
  },
  {
   "cell_type": "markdown",
   "metadata": {},
   "source": [
    "As we go beyond selecting two contrasts at once, visualising the optimisation space becomes difficult. Additionally, we have not considered how our total counting time should be split between each contrast. Instead of the brute force approach used above, we can apply an established optimisation algorithm to find the optimal solution for us. Here we apply the differential evolution algorithm to find the optimal choice of contrasts and counting time splits between them."
   ]
  },
  {
   "cell_type": "markdown",
   "metadata": {},
   "source": [
    "Due to [issues](https://docs.python.org/2.7/library/multiprocessing.html#using-a-pool-of-workers) with the multiprocessing module and interactive interpreters on Windows, the optimisation function must be in a separate file. Here we import the same bilayer sample, as defined above, from a different file to fix this issue. If running on other operating systems, this cell can be ignored. If on Windows and you wish to use the model defined in this notebook, you can set `workers=1` but this will be very slow!"
   ]
  },
  {
   "cell_type": "code",
   "execution_count": null,
   "metadata": {},
   "outputs": [],
   "source": [
    "from bilayers import BilayerDMPC\n",
    "sample = BilayerDMPC()"
   ]
  },
  {
   "cell_type": "code",
   "execution_count": null,
   "metadata": {},
   "outputs": [],
   "source": [
    "optimiser = Optimiser(sample)\n",
    "num_contrasts = 3\n",
    "angle_splits = [(0.7, 100, 0.2), (2.3, 100, 0.8)]\n",
    "\n",
    "contrasts, splits, _ = optimiser.optimise_contrasts(num_contrasts, angle_times, workers=-1, verbose=False)\n",
    "\n",
    "times = np.array(splits) * 100 # Total counting time of 100\n",
    "\n",
    "print('Contrasts: {}'.format(np.round(contrasts, 2)))\n",
    "print('Times: {}'.format(np.round(times, 1)))"
   ]
  },
  {
   "cell_type": "markdown",
   "metadata": {},
   "source": [
    "As can be seen, the results strongly agree with our findings when considering contrasts individually."
   ]
  }
 ],
 "metadata": {
  "kernelspec": {
   "display_name": "Python 3 (ipykernel)",
   "language": "python",
   "name": "python3"
  },
  "language_info": {
   "codemirror_mode": {
    "name": "ipython",
    "version": 3
   },
   "file_extension": ".py",
   "mimetype": "text/x-python",
   "name": "python",
   "nbconvert_exporter": "python",
   "pygments_lexer": "ipython3",
   "version": "3.9.13"
  }
 },
 "nbformat": 4,
 "nbformat_minor": 4
}
