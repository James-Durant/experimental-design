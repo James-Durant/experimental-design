{
 "cells": [
  {
   "cell_type": "markdown",
   "metadata": {},
   "source": [
    "# Experimental Design\n",
    "***\n",
    "## Lipid Bilayers"
   ]
  },
  {
   "cell_type": "markdown",
   "metadata": {},
   "source": [
    "Import the necessary packages and code to generate the bilayer results."
   ]
  },
  {
   "cell_type": "code",
   "execution_count": null,
   "metadata": {},
   "outputs": [],
   "source": [
    "%matplotlib inline\n",
    "\n",
    "import numpy as np\n",
    "import sys\n",
    "\n",
    "# For copying the model when sampling.\n",
    "from copy import deepcopy\n",
    "\n",
    "# Code for optimising and visualising.\n",
    "from hogben.optimise import Optimiser\n",
    "from hogben.visualise import contrast_choice_single, contrast_choice_double, underlayer_choice\n",
    "\n",
    "# Bilayer models.\n",
    "from hogben.models.bilayers import BilayerDMPC, BilayerDPPC\n",
    "\n",
    "# Reduce size of plots for the notebook.\n",
    "import matplotlib.pyplot as plt\n",
    "plt.rcParams['figure.figsize'] = (7,5)\n",
    "plt.rcParams['figure.dpi'] = 100"
   ]
  },
  {
   "cell_type": "markdown",
   "metadata": {},
   "source": [
    "Select the bilayer model to generate results for: either the 1,2-dimyristoyl-sn-glycero-3-phosphocholine (DMPC) or the 1,2-dipalmitoyl-sn-glycero-3-phosphocholine (DPPC) / lipopolysaccharide (LPS) bilayer.\n",
    "\n",
    "This cell will also get the fitted SLD profile and reflectivity curve for the experimentally-measured data sets of the chosen model."
   ]
  },
  {
   "cell_type": "code",
   "execution_count": null,
   "metadata": {},
   "outputs": [],
   "source": [
    "bilayer = BilayerDMPC() # Options are BilayerDMPC or BilayerDPPC.\n",
    "\n",
    "save_path = './results'\n",
    "bilayer.sld_profile(save_path)\n",
    "bilayer.reflectivity_profile(save_path)"
   ]
  },
  {
   "cell_type": "markdown",
   "metadata": {},
   "source": [
    "### Contrast Choice\n",
    "***\n",
    "Get the plot of minimum eigenvalue versus bulk water contrast SLD, for the chosen bilayer model, for the simultaneous choice of two contrasts assuming no prior measurement."
   ]
  },
  {
   "cell_type": "code",
   "execution_count": null,
   "metadata": {},
   "outputs": [],
   "source": [
    "# Number of points and counting times for each angle to simulate.\n",
    "angle_times = [(0.7, 100, 10),\n",
    "               (2.3, 100, 40)]\n",
    "\n",
    "# Change the number of points in the contrast range to increase/decrease detail of the plot.\n",
    "contrast_range = np.linspace(-0.56, 6.36, 5)\n",
    "contrast_choice_double(bilayer, contrast_range, angle_times, save_path)\n",
    "\n",
    "# Adjust the viewing angle of the 3D plot.\n",
    "ax = plt.gca()\n",
    "ax.view_init(elev=40, azim=50)"
   ]
  },
  {
   "cell_type": "markdown",
   "metadata": {},
   "source": [
    "Get the nested sampling corner plots from sampling simulated data of solely D2O, and simulated data of D2O and H2O."
   ]
  },
  {
   "cell_type": "code",
   "execution_count": null,
   "metadata": {
    "scrolled": false
   },
   "outputs": [],
   "source": [
    "bilayer_copy = deepcopy(bilayer)\n",
    "bilayer_copy.nested_sampling([6.36, 6.36], angle_times, save_path, 'D2O_D2O')\n",
    "bilayer_copy.nested_sampling([-0.56, 6.36], angle_times, save_path, 'H2O_D2O')"
   ]
  },
  {
   "cell_type": "markdown",
   "metadata": {},
   "source": [
    "Get the plot of minimum eigenvalue versus bulk water contrast SLD for the chosen bilayer model, for a third contrast choice, assuming D2O and H2O have been previously measured. \n",
    "\n",
    "This plot may look slightly different to the one shown in the paper as here we assume D2O and H2O have been measured for equal times."
   ]
  },
  {
   "cell_type": "code",
   "execution_count": null,
   "metadata": {},
   "outputs": [],
   "source": [
    "contrast_range = np.linspace(-0.56, 6.36, 100)\n",
    "contrast_choice_single(bilayer, contrast_range, [-0.56, 6.36], angle_times, save_path, 'H2O_D2O')"
   ]
  },
  {
   "cell_type": "markdown",
   "metadata": {},
   "source": [
    "Using differential evolution, optimise the contrast SLDs and counting time splits, for the chosen bilayer model, using a given number of contrasts."
   ]
  },
  {
   "cell_type": "code",
   "execution_count": null,
   "metadata": {},
   "outputs": [],
   "source": [
    "# Number of contrasts to optimise.\n",
    "num_contrasts = 2\n",
    "\n",
    "# Range of contrasts to optimise over.\n",
    "contrast_bounds = (-0.56, 6.36)\n",
    "\n",
    "# Counting time splits between angles to simulate.\n",
    "angle_splits = [(0.7, 100, 0.2),\n",
    "                (2.3, 100, 0.8)]\n",
    "\n",
    "optimiser = Optimiser(bilayer)\n",
    "contrasts, splits, val = optimiser.optimise_contrasts(num_contrasts, angle_splits,\n",
    "                                                      contrast_bounds=contrast_bounds, verbose=False)\n",
    "# Convert to percentages.\n",
    "splits = np.array(splits)*100\n",
    "\n",
    "# Round the optimisation function value to 4 significant figures.\n",
    "val = np.format_float_positional(val, precision=4, unique=False, fractional=False, trim='k')\n",
    "\n",
    "print('Contrasts: {}'.format(list(np.round(contrasts, 2))))\n",
    "print('Time Splits (%): {}'.format(list(np.round(splits, 1))))\n",
    "print('Objective value: {}'.format(val))"
   ]
  },
  {
   "cell_type": "markdown",
   "metadata": {},
   "source": [
    "### Angle Choice\n",
    "***\n",
    "Using differential evolution, optimise the angles and counting time splits, for the chosen bilayer model, using a given number angles."
   ]
  },
  {
   "cell_type": "code",
   "execution_count": null,
   "metadata": {},
   "outputs": [],
   "source": [
    "# Number of angles to optimise.\n",
    "num_angles = 2\n",
    "\n",
    "# Contrasts to use when simulating.\n",
    "contrasts = [-0.56, 6.36]\n",
    "\n",
    "# Range of angles to optimise over.\n",
    "angle_bounds = (0.2, 4.0)\n",
    "\n",
    "angles, splits, val = optimiser.optimise_angle_times(num_angles, contrasts,\n",
    "                                                     angle_bounds=angle_bounds, verbose=False)\n",
    "# Convert to percentages.\n",
    "splits = np.array(splits)*100\n",
    "\n",
    "# Round the optimisation function value to 4 significant figures.\n",
    "val = np.format_float_positional(val, precision=4, unique=False, fractional=False, trim='k')\n",
    "\n",
    "print('Angles: {}'.format(list(np.round(angles, 2))))\n",
    "print('Time Splits (%): {}'.format(list(np.round(splits, 1))))\n",
    "print('Objective value: {}'.format(val))"
   ]
  },
  {
   "cell_type": "markdown",
   "metadata": {},
   "source": [
    "### Underlayer Choice\n",
    "***\n",
    "Get the plot of minimum eigenvalue versus underlayer SLD and underlayer thickness, for the chosen bilayer model, assuming D2O and H2O are being measured."
   ]
  },
  {
   "cell_type": "code",
   "execution_count": null,
   "metadata": {},
   "outputs": [],
   "source": [
    "# Contrasts to simulate.\n",
    "contrasts = [-0.56, 6.36]\n",
    "\n",
    "# Range of thicknesses and SLDs to visualise over.\n",
    "# Change the number of points to increase/decrease detail of the plot.\n",
    "thickness_range = np.linspace(5, 500, 25)\n",
    "sld_range = np.linspace(1, 9, 5)\n",
    "\n",
    "underlayer_choice(bilayer, thickness_range, sld_range, contrasts, angle_times, save_path, 'D2O_H2O')\n",
    "\n",
    "# Adjust the viewing angle of the 3D plot.\n",
    "ax = plt.gca()\n",
    "ax.view_init(elev=40, azim=230)"
   ]
  },
  {
   "cell_type": "markdown",
   "metadata": {},
   "source": [
    "Get the nested sampling corner plots from sampling simulated data of D2O and H2O without any underlayer and with a single underlayer."
   ]
  },
  {
   "cell_type": "code",
   "execution_count": null,
   "metadata": {},
   "outputs": [],
   "source": [
    "# No underlayer.\n",
    "bilayer_copy.nested_sampling([-0.56, 6.36], [(0.7, 100, 40)], save_path, 'D2O_H2O_without_underlayer', underlayers=[]);\n",
    "\n",
    "# Select the appropriate optimal underlayer.\n",
    "if isinstance(bilayer, BilayerDMPC):\n",
    "    underlayers = [(127.1, 5.39)] # Optimal DMPC bilayer underlayer.\n",
    "elif isinstance(bilayer, BilayerDPPC):\n",
    "    underlayers = [(76.5, 9.00)] # Optimal DPPC/Ra LPS bilayer underlayer.\n",
    "else:\n",
    "    raise RuntimeError('Invalid bilayer model')\n",
    "    \n",
    "bilayer_copy.nested_sampling([-0.56, 6.36], [(0.7, 100, 40)], save_path, 'D2O_H2O_with_underlayer', underlayers=underlayers);"
   ]
  },
  {
   "cell_type": "markdown",
   "metadata": {},
   "source": [
    "Calculate the minimum eigenvalue without any underlayers."
   ]
  },
  {
   "cell_type": "code",
   "execution_count": null,
   "metadata": {},
   "outputs": [],
   "source": [
    "# Calculate the objective value using no underlayers.\n",
    "g = bilayer.underlayer_info(angle_times, contrasts, [])\n",
    "val = -np.linalg.eigvalsh(g)[0]\n",
    "val = np.format_float_positional(val, precision=4, unique=False, fractional=False, trim='k')\n",
    "\n",
    "print('------------ No Underlayer ------------')\n",
    "print('Objective value: {}'.format(val))"
   ]
  },
  {
   "cell_type": "markdown",
   "metadata": {},
   "source": [
    "Calculate the minimum eigenvalue using gold and Permalloy underlayers."
   ]
  },
  {
   "cell_type": "code",
   "execution_count": null,
   "metadata": {},
   "outputs": [],
   "source": [
    "# Calculate the objective value using gold underlayer.\n",
    "underlayer = [(100, 4.7)]\n",
    "g = bilayer.underlayer_info(angle_times, contrasts, underlayer)\n",
    "val = -np.linalg.eigvalsh(g)[0]\n",
    "val = np.format_float_positional(val, precision=4, unique=False, fractional=False, trim='k')\n",
    "\n",
    "print('------------ Au Underlayer ------------')\n",
    "print('Thicknesses: {}'.format([underlayer[0][0]]))\n",
    "print('SLDs: {}'.format([underlayer[0][1]]))\n",
    "print('Objective value: {}\\n'.format(val))\n",
    "\n",
    "# Calculate the objective value using a Permalloy underlayer.\n",
    "underlayer = [(100, 8.4)]\n",
    "g = bilayer.underlayer_info(angle_times, contrasts, underlayer)\n",
    "val = -np.linalg.eigvalsh(g)[0]\n",
    "val = np.format_float_positional(val, precision=4, unique=False, fractional=False, trim='k')\n",
    "\n",
    "print('--------- Permalloy Underlayer --------')\n",
    "print('Thicknesses: {}'.format([underlayer[0][0]]))\n",
    "print('SLDs: {}'.format([underlayer[0][1]]))\n",
    "print('Objective value: {}'.format(val))"
   ]
  },
  {
   "cell_type": "markdown",
   "metadata": {},
   "source": [
    "Using differential evolution, optimise the underlayer SLDs and thicknesses, for the chosen bilayer model, using a given number of underlayers."
   ]
  },
  {
   "cell_type": "code",
   "execution_count": null,
   "metadata": {},
   "outputs": [],
   "source": [
    "# Number of underlayers to optimise.\n",
    "num_underlayers = 2\n",
    "\n",
    "# Range of thicknesses and SLDs to optimise over.\n",
    "thick_bounds = (0, 500)\n",
    "sld_bounds = (1, 9)\n",
    "\n",
    "thicknesses, slds, val = optimiser.optimise_underlayers(num_underlayers, angle_times, contrasts,\n",
    "                                                        thick_bounds, sld_bounds, verbose=False)\n",
    "\n",
    "# Round the optimisation function value to 4 significant figures.\n",
    "val = np.format_float_positional(val, precision=4, unique=False, fractional=False, trim='k')\n",
    "\n",
    "print('------------ {} Underlayers ------------'.format(num_underlayers))\n",
    "print('Thicknesses: {}'.format(list(np.round(thicknesses, 1))))\n",
    "print('SLDs: {}'.format(list(np.round(slds, 2))))\n",
    "print('Objective value: {}'.format(val))"
   ]
  }
 ],
 "metadata": {
  "kernelspec": {
   "display_name": "Python 3 (ipykernel)",
   "language": "python",
   "name": "python3"
  },
  "language_info": {
   "codemirror_mode": {
    "name": "ipython",
    "version": 3
   },
   "file_extension": ".py",
   "mimetype": "text/x-python",
   "name": "python",
   "nbconvert_exporter": "python",
   "pygments_lexer": "ipython3",
   "version": "3.10"
  }
 },
 "nbformat": 4,
 "nbformat_minor": 4
}
