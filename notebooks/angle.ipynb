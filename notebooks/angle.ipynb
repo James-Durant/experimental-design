{
 "cells": [
  {
   "cell_type": "markdown",
   "metadata": {},
   "source": [
    "# Experimental Design\n",
    "***\n",
    "## Angle Choice"
   ]
  },
  {
   "cell_type": "markdown",
   "metadata": {},
   "source": [
    "Import the necessary packages and code for this application of the framework."
   ]
  },
  {
   "cell_type": "code",
   "execution_count": null,
   "metadata": {},
   "outputs": [],
   "source": [
    "from IPython.display import HTML\n",
    "%matplotlib inline\n",
    "\n",
    "import numpy as np\n",
    "\n",
    "from refnx.reflect import SLD\n",
    "\n",
    "from hogben.optimise import Optimiser\n",
    "from hogben.models.samples import Sample\n",
    "from hogben.visualise import angle_choice, angle_choice_with_time\n",
    "\n",
    "# Reduce size of plots for the notebook.\n",
    "import matplotlib.pyplot as plt\n",
    "plt.rcParams['figure.figsize'] = (6,4)\n",
    "plt.rcParams['figure.dpi'] = 100"
   ]
  },
  {
   "cell_type": "markdown",
   "metadata": {},
   "source": [
    "Next, define the structure using [refnx](https://refnx.readthedocs.io/) that we want to find the optimal measurement angle(s) for."
   ]
  },
  {
   "cell_type": "code",
   "execution_count": null,
   "metadata": {},
   "outputs": [],
   "source": [
    "# Defines a structure describing a simple sample.\n",
    "air = SLD(0, name='Air')\n",
    "layer1 = SLD(4, name='Layer 1')(thick=200, rough=2)\n",
    "layer2 = SLD(6, name='Layer 2')(thick=6, rough=2)\n",
    "substrate = SLD(2.047, name='Substrate')(thick=0, rough=2)\n",
    "\n",
    "structure = air | layer1 | layer2 | substrate\n",
    "structure.name = 'thin_layer_sample'\n",
    "\n",
    "# Wrap the refnx structure in the custom Sample class for Fisher information framework.\n",
    "sample = Sample(structure)"
   ]
  },
  {
   "cell_type": "markdown",
   "metadata": {},
   "source": [
    "Define the inputs to the angle selection code."
   ]
  },
  {
   "cell_type": "code",
   "execution_count": null,
   "metadata": {},
   "outputs": [],
   "source": [
    "# Path to directory to save results to.\n",
    "save_path = '../examples/results'\n",
    "\n",
    "# Number of data points to simulate.\n",
    "points = 150\n",
    "\n",
    "# Time to use for simulation.\n",
    "# A time of 1 approximately corresponds to 1.5 minutes.\n",
    "time = 40\n",
    "\n",
    "# Angles (in degrees) to consider.\n",
    "angle_range = np.linspace(0.2, 2.3, 200)"
   ]
  },
  {
   "cell_type": "markdown",
   "metadata": {},
   "source": [
    "***\n",
    "### First Angle\n",
    "First investigate the initial angle choice for the defined sample."
   ]
  },
  {
   "cell_type": "code",
   "execution_count": null,
   "metadata": {},
   "outputs": [],
   "source": [
    "initial_angle_times = [] # No angles measured so far.\n",
    "angle_1 = angle_choice(sample, initial_angle_times, angle_range, points, time, save_path, 'angle_choice_1')\n",
    "print('First angle choice: {}'.format(round(angle_1, 2)))"
   ]
  },
  {
   "cell_type": "markdown",
   "metadata": {},
   "source": [
    "***\n",
    "### Second Angle\n",
    "We can also look at subsequent angles. For this sample, it appears that measuring the same angle for longer is optimal until we reach a counting time of around 6 times longer than our initial time. You will see the improvement in the low angle range as the counting time is adjusted."
   ]
  },
  {
   "cell_type": "code",
   "execution_count": null,
   "metadata": {},
   "outputs": [],
   "source": [
    "x = 6 # Change x to adjust the counting time.\n",
    "initial_angle_times = [(angle_1, points, time*x)] # (Angle, Points, Time)\n",
    "angle_2 = angle_choice(sample, initial_angle_times, angle_range, points, time, save_path, 'angle_choice_2')\n",
    "print('Second angle choice: {}'.format(round(angle_2, 2)))"
   ]
  },
  {
   "cell_type": "markdown",
   "metadata": {},
   "source": [
    "***\n",
    "### Time Dependence"
   ]
  },
  {
   "cell_type": "markdown",
   "metadata": {},
   "source": [
    "Instead of manually investigating different counting times, we can create an animation of how the choice of second angle will change as the measurement time of the initial angle increases.\n",
    "\n",
    "Click the ▶ button in the plot below to play the animation."
   ]
  },
  {
   "cell_type": "code",
   "execution_count": null,
   "metadata": {
    "scrolled": false
   },
   "outputs": [],
   "source": [
    "angle_range = np.linspace(0.2, 2.3, 50)\n",
    "time_range = np.linspace(0, time*7, 20)\n",
    "anim = angle_choice_with_time(sample, angle_1, angle_range, time_range, points, time, save_path)\n",
    "HTML(anim.to_jshtml(default_mode='reflect')) # Converting to JavaScript HTML requires recalculation."
   ]
  },
  {
   "cell_type": "markdown",
   "metadata": {},
   "source": [
    "***\n",
    "### Optimisation"
   ]
  },
  {
   "cell_type": "markdown",
   "metadata": {},
   "source": [
    "So far, our experimental design has involved quite a lot of manual work. Instead of investigating individual plots like above, we can define a fixed time budget and number of angles, and apply an established optimisation algorithm to find the optimal solution for us.\n",
    "\n",
    "Here we apply the differential evolution algorithm to find the optimal angles to measure and the split of measurement times between them."
   ]
  },
  {
   "cell_type": "code",
   "execution_count": null,
   "metadata": {},
   "outputs": [],
   "source": [
    "optimiser = Optimiser(sample)\n",
    "num_angles = 2 # Number of angles to optimise.\n",
    "\n",
    "# Find the optimal angles and times using differential evolution.\n",
    "angles, splits, _ = optimiser.optimise_angle_times(num_angles, angle_bounds=(0.2, 2.3), verbose=False)\n",
    "\n",
    "# Calculate the counting times from the splits using total counting time of 100.\n",
    "times = np.array(splits) * 100\n",
    "\n",
    "print('Angles: {}'.format(np.round(angles, 2)))\n",
    "print('Times: {}'.format(np.round(times, 1)))"
   ]
  },
  {
   "cell_type": "markdown",
   "metadata": {},
   "source": [
    "As can be seen, the results strongly agree with our above findings."
   ]
  }
 ],
 "metadata": {
  "kernelspec": {
   "display_name": "Python 3 (ipykernel)",
   "language": "python",
   "name": "python3"
  },
  "language_info": {
   "codemirror_mode": {
    "name": "ipython",
    "version": 3
   },
   "file_extension": ".py",
   "mimetype": "text/x-python",
   "name": "python",
   "nbconvert_exporter": "python",
   "pygments_lexer": "ipython3",
   "version": "3.10"
  }
 },
 "nbformat": 4,
 "nbformat_minor": 4
}
